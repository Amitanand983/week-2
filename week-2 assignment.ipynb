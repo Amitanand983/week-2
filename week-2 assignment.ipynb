{
 "cells": [
  {
   "cell_type": "markdown",
   "id": "7f5217f7-954d-4d6d-89df-0f38a6a03029",
   "metadata": {},
   "source": [
    "there are two types of commenting in python \n",
    "1. single line \n",
    "ex- #this is a single line comment\n",
    "2. multi line \n",
    "ex- ''' this is a \n",
    "       multi line comment in \n",
    "       python'''"
   ]
  },
  {
   "cell_type": "code",
   "execution_count": 1,
   "id": "3cb9649b-5898-4f0a-a518-5a245ed3ecc3",
   "metadata": {},
   "outputs": [],
   "source": [
    "#variables are used to store and refer to data. They act as containers that hold values of different types, such as numbers, strings, or objects.\n",
    "#variable declaration\n",
    "var = 15\n",
    "name = \"amit\""
   ]
  },
  {
   "cell_type": "code",
   "execution_count": 6,
   "id": "60f2fc13-c10a-4f91-a83a-c59a68f34bae",
   "metadata": {},
   "outputs": [
    {
     "data": {
      "text/plain": [
       "'we can change data type using type casting, there are two types of type casting\\n   1.implicit\\n   2.explicit \\n      ex: int(variable)\\n          str(variable) \\n          float(variable)'"
      ]
     },
     "execution_count": 6,
     "metadata": {},
     "output_type": "execute_result"
    }
   ],
   "source": [
    "'''we can change data type using type casting, there are two types of type casting\n",
    "   1.implicit\n",
    "   2.explicit \n",
    "      ex: int(variable)\n",
    "          str(variable) \n",
    "          float(variable)'''\n"
   ]
  },
  {
   "cell_type": "code",
   "execution_count": 8,
   "id": "85f527d6-b277-4c22-bc0d-a2ff97e27faf",
   "metadata": {},
   "outputs": [
    {
     "data": {
      "text/plain": [
       "float"
      ]
     },
     "execution_count": 8,
     "metadata": {},
     "output_type": "execute_result"
    }
   ],
   "source": [
    "#implicit\n",
    "a=3\n",
    "b=4.5\n",
    "c=a+b\n",
    "type(c) #data type of c is taking as float instead of int, it avoids data lose."
   ]
  },
  {
   "cell_type": "code",
   "execution_count": 7,
   "id": "5d2c71ef-b041-4345-a90b-705b34778642",
   "metadata": {},
   "outputs": [
    {
     "data": {
      "text/plain": [
       "int"
      ]
     },
     "execution_count": 7,
     "metadata": {},
     "output_type": "execute_result"
    }
   ],
   "source": [
    "c=int(a+b)\n",
    "type(c) #we changed the data type explicitly\n"
   ]
  },
  {
   "cell_type": "markdown",
   "id": "af44301c-d1f9-48ef-8dc4-e970dcbc2b19",
   "metadata": {},
   "source": [
    "we save our code in a text file with name.py extension then in command line we follow these steps  \n",
    "1- cd desktop\n",
    "2- python name.py"
   ]
  },
  {
   "cell_type": "code",
   "execution_count": 10,
   "id": "6222bfb6-eba7-43db-bda4-092c3458d2f3",
   "metadata": {},
   "outputs": [
    {
     "name": "stdout",
     "output_type": "stream",
     "text": [
      "[2, 3]\n"
     ]
    }
   ],
   "source": [
    "my_list = [1, 2, 3, 4, 5]\n",
    "sub_list = my_list[1:3]\n",
    "print(sub_list)"
   ]
  },
  {
   "cell_type": "markdown",
   "id": "d0369e7a-c618-493d-96f1-8d867be0176f",
   "metadata": {},
   "source": [
    "Complex number is a combination of real and imaginary numbers.\n",
    "In python it represented by complex_no = 4 + 5j (where 4 is real part and 5 is imaginary part), In maths we denote imaginary part by i (ex - 4+5i where i is iota)"
   ]
  },
  {
   "cell_type": "code",
   "execution_count": 1,
   "id": "5c6e2792-4a03-4048-96e2-11a5213c5064",
   "metadata": {},
   "outputs": [],
   "source": [
    "age = 25"
   ]
  },
  {
   "cell_type": "code",
   "execution_count": 2,
   "id": "f6aec842-2f40-44e9-a741-e81e4eabb1c4",
   "metadata": {},
   "outputs": [
    {
     "data": {
      "text/plain": [
       "float"
      ]
     },
     "execution_count": 2,
     "metadata": {},
     "output_type": "execute_result"
    }
   ],
   "source": [
    "price = 9.99\n",
    "type(price)"
   ]
  },
  {
   "cell_type": "code",
   "execution_count": 3,
   "id": "9f0d759a-ce8e-48de-80fd-f5085db6d87c",
   "metadata": {},
   "outputs": [
    {
     "name": "stdout",
     "output_type": "stream",
     "text": [
      "Amit Anand\n"
     ]
    }
   ],
   "source": [
    "name = \"Amit Anand\"\n",
    "print(name)"
   ]
  },
  {
   "cell_type": "code",
   "execution_count": 5,
   "id": "a0df9c42-243b-4aee-bffe-0b3b785932da",
   "metadata": {},
   "outputs": [
    {
     "name": "stdout",
     "output_type": "stream",
     "text": [
      "World\n"
     ]
    }
   ],
   "source": [
    "stri = \"Hello, World!\"\n",
    "sub_str = stri[7:12]\n",
    "print(sub_str)"
   ]
  },
  {
   "cell_type": "code",
   "execution_count": 7,
   "id": "76b54b4d-0276-4b1e-9ab2-559096f16ebf",
   "metadata": {},
   "outputs": [],
   "source": [
    "is_student = True"
   ]
  },
  {
   "cell_type": "code",
   "execution_count": null,
   "id": "888ed8ea-9b97-4d14-98ee-666073931561",
   "metadata": {},
   "outputs": [],
   "source": []
  }
 ],
 "metadata": {
  "kernelspec": {
   "display_name": "Python 3 (ipykernel)",
   "language": "python",
   "name": "python3"
  },
  "language_info": {
   "codemirror_mode": {
    "name": "ipython",
    "version": 3
   },
   "file_extension": ".py",
   "mimetype": "text/x-python",
   "name": "python",
   "nbconvert_exporter": "python",
   "pygments_lexer": "ipython3",
   "version": "3.10.8"
  }
 },
 "nbformat": 4,
 "nbformat_minor": 5
}
